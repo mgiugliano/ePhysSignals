{
  "nbformat": 4,
  "nbformat_minor": 0,
  "metadata": {
    "colab": {
      "provenance": [],
      "collapsed_sections": []
    },
    "kernelspec": {
      "name": "python3",
      "display_name": "Python 3"
    },
    "language_info": {
      "name": "python"
    }
  },
  "cells": [
    {
      "cell_type": "markdown",
      "source": [
        "# **Cheat-sheet for Markdown**\n",
        "\n",
        "\n",
        "![alt text](https://upload.wikimedia.org/wikipedia/commons/thumb/3/38/Jupyter_logo.svg/207px-Jupyter_logo.svg.png)"
      ],
      "metadata": {
        "id": "W_mmxq1K5vhy"
      }
    },
    {
      "cell_type": "markdown",
      "source": [
        "# **Introduction**\n",
        "\n",
        "[Google Colab](https://colab.research.google.com/notebooks/intro.ipynb) is an online tool that lets us quickly and easily explore and use [Jupyter Notebooks](https://en.wikipedia.org/wiki/Project_Jupyter).\n",
        "\n",
        "These notebooks are web-based interactive computational environment. They are meant to create documents, combining (formatted) text, equations, computer code, data, and the result/output of the evaluation of such a code on the data (including plots, rich media, text, tables, etc.).\n",
        "\n",
        "Jupyter notebooks are an example of [Literate programming](https://en.wikipedia.org/wiki/Literate_programming) which are considered at the forefront of open and reproducible science.\n",
        "In fact, in 2021 [Nature](https://www.nature.com/articles/d41586-021-00075-2) named Jupyter as one of ten computing projects that transformed science.\n"
      ],
      "metadata": {
        "id": "4Qi7XXG56HqR"
      }
    },
    {
      "cell_type": "markdown",
      "source": [
        "In this notebook, we are only going to explore **text cells** (like this one!) and leave **code cells**, where you can type code, for later.\n",
        "\n",
        "You can start exploring Google Colab from below given link. \n",
        "\n",
        "**Get your hands on [Google Colab](https://colab.research.google.com/)**\n"
      ],
      "metadata": {
        "id": "wJ_-jXm773m5"
      }
    },
    {
      "cell_type": "code",
      "source": [
        "import matplotlib.pyplot as plt\n",
        "import numpy as np\n",
        "\n",
        "# Data for plotting\n",
        "t = np.arange(0.0, 2.0, 0.01)\n",
        "s = 1 + np.sin(2 * np.pi * t)/t\n",
        "\n",
        "fig, ax = plt.subplots()\n",
        "ax.plot(t, s)\n",
        "\n",
        "ax.set(xlabel='time (s)', ylabel='voltage (mV)',\n",
        "       title='About as simple as it gets, folks')\n",
        "ax.grid()\n",
        "\n",
        "fig.savefig(\"test.png\")\n",
        "plt.show()"
      ],
      "metadata": {
        "colab": {
          "base_uri": "https://localhost:8080/",
          "height": 349
        },
        "id": "PQ6X84OrAyZA",
        "outputId": "35aa6093-536c-4064-e3d7-a6c25e5af71d"
      },
      "execution_count": 2,
      "outputs": [
        {
          "output_type": "stream",
          "name": "stderr",
          "text": [
            "/usr/local/lib/python3.7/dist-packages/ipykernel_launcher.py:6: RuntimeWarning: invalid value encountered in true_divide\n",
            "  \n"
          ]
        },
        {
          "output_type": "display_data",
          "data": {
            "text/plain": [
              "<Figure size 432x288 with 1 Axes>"
            ],
            "image/png": "[encoded data removed]"
          },
          "metadata": {
            "needs_background": "light"
          }
        }
      ]
    },
    {
      "cell_type": "markdown",
      "source": [
        "Yes! Let's leave the code for later...\n",
        "\n",
        "Have a look at it! It is Python! It plots a function of $t$, namely:\n",
        "\n",
        "$f(t) = 1 + \\frac{sin(2 \\pi t)}{t}$\n"
      ],
      "metadata": {
        "id": "Va-CTVl0BH2X"
      }
    },
    {
      "cell_type": "markdown",
      "source": [
        "# Markdown\n",
        "\n",
        "In a Jupyter notebook, composing text, creating paragraphs, bold/italic styles, adding hyperlinks, figures, equations requires knowledge of **markdown**. \n",
        "\n",
        "It is a *markup language* (like *html*) but much much lighter and easier to learn and to master. It has been conceived to be easy-to-write and easy-to-read language and it is based only on pure text.\n",
        "\n",
        "Forget about Microsoft World! You shall remember my words, when writing your Master Thesis and having Word crashing or constantly altering formatting, spacing, layout, etc.).\n",
        "\n",
        "Embrace the power of minimalism!!\n",
        "\n",
        "Learn Markdown syntax [here](https://www.markdownguide.org) or bear with me for another 5 minutes."
      ],
      "metadata": {
        "id": "_aUkiLdJ8Al5"
      }
    },
    {
      "cell_type": "markdown",
      "source": [
        "# **Heading**\n",
        "\n",
        "Below is the shortcut command for headings. There are different types of headings from Heading 1 to 6.\n",
        "\n",
        "Use `# heading-name`, the more you append `#` the size of the heading decreases as seen below:\n",
        "\n",
        "![alt text](https://miro.medium.com/max/1400/1*FvhQEnugHOYcOu9hTTiloQ.png)\n",
        "\n",
        "---"
      ],
      "metadata": {
        "id": "qQdWSKce9F7N"
      }
    },
    {
      "cell_type": "markdown",
      "source": [
        "# **Bold**\n",
        "\n",
        "Bold make the text bolder and increases the text’s visibility.\n",
        "\n",
        "To make the text bold in markdown surround it by `**` (two stars) for example `**Text-to-be-bold**`.\n",
        "\n",
        "![alt text](https://miro.medium.com/max/1400/1*F10Z_262d18oRCRuIPUJtw.png)\n",
        "\n",
        "\n",
        "# **Italicize**\n",
        "\n",
        "Similar to bold the text can also be italicized\n",
        "\n",
        "To make the text italicize in markdown surround it by `*` (one star) for example `*Text-to-be-italicize*`\n",
        "\n",
        "![alt text](https://miro.medium.com/max/1400/1*qnD2cKIhia7pxGUwXDtHGQ.png)\n",
        "\n",
        "# **Strikethrough**\n",
        "\n",
        "Used to strike through the text. A **horizontal line** is drawn in the middle of the text.\n",
        "\n",
        "To strikethrough, the text in markdown surround the text with two tilde’s character `~~`, such as `~~Text to be striked~~`.\n",
        "\n",
        "![alt text](https://miro.medium.com/max/1400/1*5vU7QHc4XS0YMA9jHUbFLg.png)\n",
        "\n",
        "\n",
        "# **Combination**\n",
        "\n",
        "Also, we can combine all the formatting commands and style the text as shown below.\n",
        "\n",
        "The **virurs** shall ***no longer*** rule the ~~world~~.\n",
        "\n",
        "\n",
        "\n",
        "---\n"
      ],
      "metadata": {
        "id": "cHGa0m-E9Wbb"
      }
    },
    {
      "cell_type": "markdown",
      "source": [
        "# **Lists**\n",
        "\n",
        "As we all know there are two types of lists:\n",
        "\n",
        "\n",
        "\n",
        "1.   **Ordered List**\n",
        "\n",
        "2.   **Unordered List**\n",
        "\n",
        "As the name suggests an ordered list has an order (1, 2, 3,… or other). But an unordered list has no order, as shown below.\n",
        "\n",
        "## **Ordered and Unordered list in Markdown**\n",
        "\n",
        "In markdown for the ordered list, you can straightaway just type numbers like `1, 2, 3, and so on`. But for the unordered list, you can start with a `*` and this intern creates a bullet list.\n",
        "\n",
        "![alt text](https://miro.medium.com/max/1400/1*vBRF_lB35gRkuH09Msx9bA.png)\n"
      ],
      "metadata": {
        "id": "Y-kYYYhG9eIV"
      }
    },
    {
      "cell_type": "markdown",
      "source": [
        "# **Links**\n",
        "\n",
        "Links or hyperlinks allow users to click their way from page to page.\n",
        "\n",
        "In markdown write the title of the link inside square brackets `[ ]` and write the webpage address inside round brackets or parenthesis `( )`. **Make sure you write the title first, followed by the link.**\n",
        "\n",
        "![alt text](https://miro.medium.com/max/1400/1*QJf4inbel4zdf9i8hndr3g.png)\n"
      ],
      "metadata": {
        "id": "TNemC2Rq-RT6"
      }
    },
    {
      "cell_type": "markdown",
      "source": [
        "# **Images**\n",
        "\n",
        "Sometimes **one image is worth one thousand words**. People can easily understand the concepts better by seeing an image.\n",
        "\n",
        "## **Markdown**\n",
        "\n",
        "Similar to the link you need to insert the link of the image inside the parenthesis. Make sure you append `!` at the beginning. If your link is broken or not valid, then the `alt text` would be displayed.\n",
        "\n",
        "![alt text](https://miro.medium.com/max/1400/1*Bk6dec-nG1PuAJv3PjZq9w.png)\n",
        "\n",
        "---"
      ],
      "metadata": {
        "id": "aOzZQvy6-Xim"
      }
    },
    {
      "cell_type": "markdown",
      "source": [
        "# **Rendering text as *code***\n",
        "\n",
        "There are two ways you can render part of the text as *code*. That does not mean to **execute** (or **interpret**) the code, only aesthetically render it. There are two options: \n",
        "\n",
        "\n",
        "1.   **Inline Code**\n",
        "2.   **Code Block**\n",
        "\n",
        "\n",
        "## **Inline Code**\n",
        "\n",
        "To use the inline code, you can use the **backticks (``)**. Surround it with backticks as shown above.\n",
        "\n",
        "\n",
        "![alt text](https://miro.medium.com/max/1400/1*jTJnPDH_LY7SHoA8NCSFgw.png)\n",
        "\n",
        "## **Code Block**\n",
        "\n",
        "This is used when you write **several lines of code** and you can embed the code within ` ``` `, as shown below:\n",
        "\n",
        "\n",
        "**Default syntax highlighting**\n",
        "\n",
        "This works irrespective of any programming language.\n",
        "\n",
        "![alt text](https://miro.medium.com/max/1400/1*uBqi2TGiII8XGUWFNFN3Wg.png)\n",
        "\n",
        "\n",
        "**Python syntax highlighting**\n",
        "\n",
        "This can be used explicitly for **python** programming. You should include the name `python` at the beginning.\n",
        "\n",
        "![alt text](https://miro.medium.com/max/1400/1*8ikLv5cwvPAawt97Q1xrTg.png)\n",
        "\n",
        "\n",
        "**Javascript syntax highlighting**\n",
        "\n",
        "This can be used explicitly for **JavaScript** programming. You should include the name `javascript` at the beginning.\n",
        "\n",
        "![alt text](https://miro.medium.com/max/1400/1*mjXD9EB0ZQCYFBBZdgs4KQ.png)\n",
        "\n",
        "**C programming syntax highlighting**\n",
        "\n",
        "This can be used explicitly for **C** programming. You should include the name `c` at the beginning.\n",
        "\n",
        "![alt text](https://miro.medium.com/max/1400/1*28aomzI0HhUJHxphJfpfZw.png)\n",
        "\n",
        "\n",
        "As seen above you can highlight the code snippets based on different programming languages.\n",
        "\n",
        "---\n"
      ],
      "metadata": {
        "id": "gQt_lDUD-pqw"
      }
    },
    {
      "cell_type": "code",
      "source": [],
      "metadata": {
        "id": "HEVsTaxy-YJp"
      },
      "execution_count": null,
      "outputs": []
    },
    {
      "cell_type": "code",
      "source": [],
      "metadata": {
        "id": "4S5t2gwI_k3C"
      },
      "execution_count": null,
      "outputs": []
    },
    {
      "cell_type": "markdown",
      "source": [
        "# **Tables**\n",
        "\n",
        "When you want to add a **table** you can conveniently use the `|` as an operator for different columns. By default, the table headers are rendered in bold.\n",
        "\n",
        "![alt text](https://miro.medium.com/max/1400/1*7FdxLfShsePvU_FQ-qqS3Q.png)\n",
        "\n",
        "\n",
        "\n",
        "> Colons can be used to align columns.\n",
        "\n",
        "\n",
        "If you need to create any table then use the below [tool](https://www.tablesgenerator.com/) to generate tables for you. All you have to do select the type of table generators such as **Latex, HTML, Markdown, and others**. Enter the contents inside the table and then click on **Generate**. You can then copy-paste the generated code in the text editor and see a beautiful table without minimum effort.\n",
        "\n",
        "[Create LaTeX tables online](https://www.tablesgenerator.com/)\n"
      ],
      "metadata": {
        "id": "thT88cAY_lbx"
      }
    },
    {
      "cell_type": "markdown",
      "source": [
        "# **Horizontal Ruler**\n",
        "\n",
        "\n",
        "It is often a good practice to draw a horizontal ruler after every chapter, or any concept while you are writing. This just helps in differentiating things from one another.\n",
        "\n",
        "You simply need to  use 3 `---` (Minus)characters.\n",
        "\n",
        "![alt text](https://miro.medium.com/max/1400/1*VSkk-UQvxbGom2bVCIvAwQ.png)\n"
      ],
      "metadata": {
        "id": "IP7ONpul_3Su"
      }
    },
    {
      "cell_type": "markdown",
      "source": [
        "$` and start with `\\` after the first `$`.\n",
        "\n",
        "![alt text](https://miro.medium.com/max/1400/1*578h3YR_ItAA1O9lQNkcjQ.png)\n",
        "\n",
        "\n",
        "## **Equations**\n",
        "\n",
        "Follow the same rules i.e surround the equations between `$` and start with `/` after the first `$`.\n",
        "\n",
        "![alt text](https://miro.medium.com/max/1400/1*5tRMzSc_wLHIXB3rNrKi5Q.png)\n",
        "\n",
        "To see more about the mathematical equations and symbols, please refer to the [link](https://csrgxtu.github.io/2015/03/20/Writing-Mathematic-Fomulars-in-Markdown/) below:\n",
        "\n",
        "[Writing Mathematical Formulas in Markdown](https://csrgxtu.github.io/2015/03/20/Writing-Mathematic-Fomulars-in-Markdown/)\n",
        "\n",
        "---"
      ],
      "metadata": {
        "id": "DhcEbpmUAI0R"
      }
    },
    {
      "cell_type": "markdown",
      "source": [
        "# Congrats!\n",
        "\n",
        "You are now graduated.. in the use of Markdown. Was it difficult? Can you play it by yourself?\n",
        "\n",
        "Can you imagine writing your (optional, not compulsory) assignment reports in a Jupyter notebook, with both markdown and code?"
      ],
      "metadata": {
        "id": "QAHedl-hAO2q"
      }
    },
    {
      "cell_type": "code",
      "source": [],
      "metadata": {
        "id": "cuUPZhpnAdYe"
      },
      "execution_count": null,
      "outputs": []
    }
  ]
}