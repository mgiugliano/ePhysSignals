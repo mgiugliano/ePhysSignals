{
  "cells": [
    {
      "cell_type": "markdown",
      "metadata": {
        "id": "dZYfEHlH4Baz"
      },
      "source": [
        "# Intro to Julia\n",
        "\n",
        "The first time you open this notebook, follow the instructions below..."
      ]
    },
    {
      "cell_type": "code",
      "execution_count": 8,
      "metadata": {
        "colab": {
          "base_uri": "https://localhost:8080/",
          "height": 212
        },
        "id": "6Q4PbqcS8n7y",
        "outputId": "0ac4d4e4-cbee-4de1-a50d-5a38d835c689"
      },
      "outputs": [
        {
          "ename": "LoadError",
          "evalue": "ignored",
          "output_type": "error",
          "traceback": [
            "syntax: extra token \"https\" after end of expression",
            "",
            "Stacktrace:",
            " [1] top-level scope",
            "   @ In[8]:3",
            " [2] eval",
            "   @ ./boot.jl:368 [inlined]",
            " [3] include_string(mapexpr::typeof(REPL.softscope), mod::Module, code::String, filename::String)",
            "   @ Base ./loading.jl:1428"
          ]
        }
      ],
      "source": [
        "# Run only this first 'cell', when starting your notebook session.\n",
        "# It will take ~3min\n",
        "!curl -fsSL https://raw.githubusercontent.com/mgiugliano/PrinciplesCompNeurosciencesCourse/main/pvt/deploy_julia.sh | sh\n",
        "\n",
        "# When the process is completed, perform a 'page refresh'."
      ]
    },
    {
      "cell_type": "code",
      "execution_count": 10,
      "metadata": {
        "id": "wFuo_ZG7q60m"
      },
      "outputs": [],
      "source": [
        "# Single line comments start with a hash (pound) symbol.\n",
        "#= Multiline comments can be written\n",
        "   by putting '#=' before the text  and '=#'\n",
        "   after the text. They can also be nested.\n",
        "=#"
      ]
    },
    {
      "cell_type": "code",
      "execution_count": 11,
      "metadata": {
        "colab": {
          "base_uri": "https://localhost:8080/"
        },
        "id": "PkFViWt_rI9F",
        "outputId": "72e31bda-9344-486d-c4e8-e742d6345c94"
      },
      "outputs": [
        {
          "data": {
            "text/plain": [
              "Float64"
            ]
          },
          "execution_count": 11,
          "metadata": {},
          "output_type": "execute_result"
        }
      ],
      "source": [
        "####################################################\n",
        "## 1. Primitive Datatypes and Operators\n",
        "####################################################\n",
        "\n",
        "# Everything in Julia is an expression.\n",
        "\n",
        "# There are several basic types of numbers.\n",
        "typeof(3)       # => Int64\n",
        "typeof(3.2)     # => Float64"
      ]
    },
    {
      "cell_type": "code",
      "execution_count": 12,
      "metadata": {
        "colab": {
          "base_uri": "https://localhost:8080/"
        },
        "id": "ql5U4F5urJNv",
        "outputId": "6a25bcb9-a9ae-4fe0-a0fb-041acada336e"
      },
      "outputs": [
        {
          "data": {
            "text/plain": [
              "2"
            ]
          },
          "execution_count": 12,
          "metadata": {},
          "output_type": "execute_result"
        }
      ],
      "source": [
        "# All of the normal infix operators are available.\n",
        "1 + 1      # => 2\n",
        "8 - 1      # => 7\n",
        "10 * 2     # => 20\n",
        "35 / 5     # => 7.0\n",
        "10 / 2     # => 5.0  # dividing integers always results in a Float64\n",
        "div(5, 2)  # => 2    # for a truncated result, use div\n",
        "2^2        # => 4    # power, not bitwise xor\n",
        "12 % 10    # => 2"
      ]
    },
    {
      "cell_type": "code",
      "execution_count": 13,
      "metadata": {
        "colab": {
          "base_uri": "https://localhost:8080/"
        },
        "id": "ho0QUKDsrJQQ",
        "outputId": "4a31608e-8329-47d8-8f23-9de3db07344f"
      },
      "outputs": [
        {
          "data": {
            "text/plain": [
              "8"
            ]
          },
          "execution_count": 13,
          "metadata": {},
          "output_type": "execute_result"
        }
      ],
      "source": [
        "# Enforce precedence with parentheses\n",
        "(1 + 3) * 2  # => 8"
      ]
    },
    {
      "cell_type": "code",
      "execution_count": 14,
      "metadata": {
        "colab": {
          "base_uri": "https://localhost:8080/"
        },
        "id": "dHPmUSvRrJSr",
        "outputId": "455bb1a0-b50d-4328-de19-30d63f15d7c6"
      },
      "outputs": [
        {
          "data": {
            "text/plain": [
              "false"
            ]
          },
          "execution_count": 14,
          "metadata": {},
          "output_type": "execute_result"
        }
      ],
      "source": [
        "# Boolean values are primitives\n",
        "true\n",
        "false"
      ]
    },
    {
      "cell_type": "code",
      "execution_count": 15,
      "metadata": {
        "colab": {
          "base_uri": "https://localhost:8080/"
        },
        "id": "jF55BMVlrJVN",
        "outputId": "b9ddf705-dacf-4dac-a104-d4cf2f3f2136"
      },
      "outputs": [
        {
          "data": {
            "text/plain": [
              "false"
            ]
          },
          "execution_count": 15,
          "metadata": {},
          "output_type": "execute_result"
        }
      ],
      "source": [
        "# Boolean operators\n",
        "!true   # => false\n",
        "!false  # => true\n",
        "1 == 1  # => true\n",
        "2 == 1  # => false\n",
        "1 != 1  # => false\n",
        "2 != 1  # => true\n",
        "1 < 10  # => true\n",
        "1 > 10  # => false\n",
        "2 <= 2  # => true\n",
        "2 >= 2  # => true\n",
        "\n",
        "# Comparisons can be chained, like in Python but unlike many other languages\n",
        "1 < 2 < 3  # => true\n",
        "2 < 3 < 2  # => false"
      ]
    },
    {
      "cell_type": "code",
      "execution_count": 16,
      "metadata": {
        "colab": {
          "base_uri": "https://localhost:8080/"
        },
        "id": "LqNyBTFQrJXi",
        "outputId": "3b754860-0eb1-45bc-e806-8eed293a262b"
      },
      "outputs": [
        {
          "data": {
            "text/plain": [
              "'a': ASCII/Unicode U+0061 (category Ll: Letter, lowercase)"
            ]
          },
          "execution_count": 16,
          "metadata": {},
          "output_type": "execute_result"
        }
      ],
      "source": [
        "# Strings are created with \"\n",
        "\"This is a string.\"\n",
        "\n",
        "# Character literals are written with '\n",
        "'a'"
      ]
    },
    {
      "cell_type": "code",
      "execution_count": 17,
      "metadata": {
        "colab": {
          "base_uri": "https://localhost:8080/"
        },
        "id": "KPRA6z67rJZ7",
        "outputId": "42e12301-afe8-436e-bb44-5c2e4a16a0de"
      },
      "outputs": [
        {
          "name": "stdout",
          "output_type": "stream",
          "text": [
            "I'm Julia. Nice to meet you!\n"
          ]
        }
      ],
      "source": [
        "# Beware, Julia indexes everything from 1 (like MATLAB), not 0 (like most languages).\n",
        "\n",
        "# String can be compared lexicographically, in dictionnary order:\n",
        "\"good\" > \"bye\"   # => true\n",
        "\"good\" == \"good\" # => true\n",
        "\"1 + 2 = 3\" == \"1 + 2 = $(1 + 2)\" # => true\n",
        "\n",
        "# $(..) can be used for string interpolation:\n",
        "\"2 + 2 = $(2 + 2)\" # => \"2 + 2 = 4\"\n",
        "# You can put any Julia expression inside the parentheses.\n",
        "\n",
        "# Printing is easy\n",
        "println(\"I'm Julia. Nice to meet you!\")  # => I'm Julia. Nice to meet you!"
      ]
    },
    {
      "cell_type": "code",
      "execution_count": 18,
      "metadata": {
        "colab": {
          "base_uri": "https://localhost:8080/"
        },
        "id": "agS6AgCxrJcb",
        "outputId": "3f9e38cd-29d9-4c07-f428-c363e6395798"
      },
      "outputs": [
        {
          "data": {
            "text/plain": [
              "6"
            ]
          },
          "execution_count": 18,
          "metadata": {},
          "output_type": "execute_result"
        }
      ],
      "source": [
        "####################################################\n",
        "## 2. Variables and Collections\n",
        "####################################################\n",
        "\n",
        "# You don't declare variables before assigning to them.\n",
        "someVar = 5  # => 5\n",
        "someVar      # => 5\n",
        "\n",
        "\n",
        "# Variable names start with a letter or underscore.\n",
        "# After that, you can use letters, digits, underscores, and exclamation points.\n",
        "SomeOtherVar123! = 6  # => 6"
      ]
    },
    {
      "cell_type": "code",
      "execution_count": 19,
      "metadata": {
        "colab": {
          "base_uri": "https://localhost:8080/"
        },
        "id": "7qdFbYQ7rJeq",
        "outputId": "db3b76be-1a46-4be8-d976-900910c0cadc"
      },
      "outputs": [
        {
          "data": {
            "text/plain": [
              "3-element Vector{Int64}:\n",
              " 4\n",
              " 5\n",
              " 6"
            ]
          },
          "execution_count": 19,
          "metadata": {},
          "output_type": "execute_result"
        }
      ],
      "source": [
        "# Arrays store a sequence of values indexed by integers 1 through n:\n",
        "a = Int64[] # => 0-element Array{Int64,1}\n",
        "\n",
        "# 1-dimensional array literals can be written with comma-separated values.\n",
        "b = [4, 5, 6] # => 3-element Array{Int64,1}: [4, 5, 6]\n",
        "b = [4; 5; 6] # => 3-element Array{Int64,1}: [4, 5, 6]\n",
        "b[1]    # => 4\n",
        "b[end]  # => 6\n",
        "\n",
        "# 2-dimensional arrays use space-separated values and semicolon-separated rows.\n",
        "matrix = [1 2; 3 4] # => 2×2 Array{Int64,2}: [1 2; 3 4]\n",
        "\n",
        "# Arrays of a particular type\n",
        "b = Int8[4, 5, 6] # => 3-element Array{Int8,1}: [4, 5, 6]\n",
        "\n",
        "# Add stuff to the end of a list with push! and append!\n",
        "# By convention, the exclamation mark '!' is appended to names of functions\n",
        "# that modify their arguments\n",
        "push!(a, 1)    # => [1]\n",
        "push!(a, 2)    # => [1,2]\n",
        "push!(a, 4)    # => [1,2,4]\n",
        "push!(a, 3)    # => [1,2,4,3]\n",
        "append!(a, b)  # => [1,2,4,3,4,5,6]\n",
        "\n",
        "# Remove from the end with pop\n",
        "pop!(b)  # => 6\n",
        "b # => [4,5]\n",
        "\n",
        "# Let's put it back\n",
        "push!(b, 6)  # => [4,5,6]\n",
        "b # => [4,5,6]\n",
        "\n",
        "a[1]  # => 1  # remember that Julia indexes from 1, not 0!\n",
        "\n",
        "# end is a shorthand for the last index. It can be used in any\n",
        "# indexing expression\n",
        "a[end]  # => 6\n",
        "\n",
        "# we also have popfirst! and pushfirst!\n",
        "popfirst!(a)  # => 1 \n",
        "a # => [2,4,3,4,5,6]\n",
        "pushfirst!(a, 7)  # => [7,2,4,3,4,5,6]\n",
        "a # => [7,2,4,3,4,5,6]\n",
        "\n",
        "# Function names that end in exclamations points indicate that they modify\n",
        "# their argument.\n",
        "arr = [5,4,6]  # => 3-element Array{Int64,1}: [5,4,6]\n",
        "sort(arr)      # => [4,5,6]\n",
        "arr            # => [5,4,6]\n",
        "sort!(arr)     # => [4,5,6]\n",
        "arr            # => [4,5,6]"
      ]
    },
    {
      "cell_type": "code",
      "execution_count": 20,
      "metadata": {
        "colab": {
          "base_uri": "https://localhost:8080/"
        },
        "id": "KgQ-sU5grJhB",
        "outputId": "39826177-6578-4f60-940c-7ad94f2e39c1"
      },
      "outputs": [
        {
          "data": {
            "text/plain": [
              "8"
            ]
          },
          "execution_count": 20,
          "metadata": {},
          "output_type": "execute_result"
        }
      ],
      "source": [
        "# You can initialize arrays from ranges\n",
        "a = [1:5;]  # => 5-element Array{Int64,1}: [1,2,3,4,5]\n",
        "a2 = [1:5]  # => 1-element Array{UnitRange{Int64},1}: [1:5]\n",
        "\n",
        "# You can look at ranges with slice syntax.\n",
        "a[1:3]    # => [1, 2, 3]\n",
        "a[2:end]  # => [2, 3, 4, 5]\n",
        "\n",
        "# Remove elements from an array by index with splice!\n",
        "arr = [3,4,5]\n",
        "splice!(arr, 2) # => 4 \n",
        "arr # => [3,5]\n",
        "\n",
        "# Concatenate lists with append!\n",
        "b = [1,2,3]\n",
        "append!(a, b) # => [1, 2, 3, 4, 5, 1, 2, 3]\n",
        "a # => [1, 2, 3, 4, 5, 1, 2, 3]\n",
        "\n",
        "# Check for existence in a list with in\n",
        "in(1, a)  # => true\n",
        "\n",
        "# Examine the length with length\n",
        "length(a)  # => 8"
      ]
    },
    {
      "cell_type": "code",
      "execution_count": 21,
      "metadata": {
        "colab": {
          "base_uri": "https://localhost:8080/"
        },
        "id": "cP3qFAwGrJjT",
        "outputId": "3e593a37-cebb-422f-8f28-a769fb9bd561"
      },
      "outputs": [
        {
          "name": "stdout",
          "output_type": "stream",
          "text": [
            "someVar is smaller than 10.\n",
            "dog is a mammal\n",
            "cat is a mammal\n",
            "mouse is a mammal\n",
            "dog is a mammal\n",
            "cat is a mammal\n",
            "mouse is a mammal\n",
            "0\n",
            "1\n",
            "2\n",
            "3\n"
          ]
        }
      ],
      "source": [
        "####################################################\n",
        "## 3. Control Flow\n",
        "####################################################\n",
        "\n",
        "# Let's make a variable\n",
        "someVar = 5\n",
        "\n",
        "# Here is an if statement. Indentation is not meaningful in Julia.\n",
        "if someVar > 10\n",
        "    println(\"someVar is totally bigger than 10.\")\n",
        "elseif someVar < 10    # This elseif clause is optional.\n",
        "    println(\"someVar is smaller than 10.\")\n",
        "else                    # The else clause is optional too.\n",
        "    println(\"someVar is indeed 10.\")\n",
        "end\n",
        "# => prints \"some var is smaller than 10\"\n",
        "\n",
        "# For loops iterate over iterables.\n",
        "# Iterable types include Range, Array, Set, Dict, and AbstractString.\n",
        "for animal = [\"dog\", \"cat\", \"mouse\"]\n",
        "    println(\"$animal is a mammal\")\n",
        "    # You can use $ to interpolate variables or expression into strings.\n",
        "    # In this special case, no need for parenthesis: $animal and $(animal) give the same\n",
        "end\n",
        "# => dog is a mammal\n",
        "# => cat is a mammal\n",
        "# => mouse is a mammal\n",
        "\n",
        "# You can use 'in' instead of '='.\n",
        "for animal in [\"dog\", \"cat\", \"mouse\"]\n",
        "    println(\"$animal is a mammal\")\n",
        "end\n",
        "# => dog is a mammal\n",
        "# => cat is a mammal\n",
        "# => mouse is a mammal\n",
        "\n",
        "# While loops loop while a condition is true\n",
        "let x = 0\n",
        "    while x < 4\n",
        "        println(x)\n",
        "        x += 1  # Shorthand for in place increment: x = x + 1\n",
        "    end\n",
        "end\n",
        "# => 0\n",
        "# => 1\n",
        "# => 2\n",
        "# => 3"
      ]
    },
    {
      "cell_type": "code",
      "execution_count": 22,
      "metadata": {
        "colab": {
          "base_uri": "https://localhost:8080/"
        },
        "id": "9XKKnMhkrdi0",
        "outputId": "32221b85-1820-4e5d-ec4a-cbf675a01140"
      },
      "outputs": [
        {
          "name": "stdout",
          "output_type": "stream",
          "text": [
            "x is 5 and y is 6\n"
          ]
        },
        {
          "data": {
            "text/plain": [
              "(7, -1)"
            ]
          },
          "execution_count": 22,
          "metadata": {},
          "output_type": "execute_result"
        }
      ],
      "source": [
        "####################################################\n",
        "## 4. Functions\n",
        "####################################################\n",
        "\n",
        "# The keyword 'function' creates new functions\n",
        "# function name(arglist)\n",
        "#   body...\n",
        "# end\n",
        "function add(x, y)\n",
        "    println(\"x is $x and y is $y\")\n",
        "\n",
        "    # Functions return the value of their last statement\n",
        "    x + y\n",
        "end\n",
        "\n",
        "add(5, 6)\n",
        "# => x is 5 and y is 6\n",
        "# => 11\n",
        "\n",
        "# Compact assignment of functions\n",
        "f_add(x, y) = x + y  # => f_add (generic function with 1 method)\n",
        "f_add(3, 4)  # => 7\n",
        "\n",
        "# Function can also return multiple values as tuple\n",
        "fn(x, y) = x + y, x - y # => fn (generic function with 1 method)\n",
        "fn(3, 4)  # => (7, -1)"
      ]
    },
    {
      "cell_type": "code",
      "execution_count": null,
      "metadata": {
        "id": "Q1YVQsdhrfdO"
      },
      "outputs": [],
      "source": []
    },
    {
      "cell_type": "code",
      "execution_count": null,
      "metadata": {
        "id": "nU_ICtyArffj"
      },
      "outputs": [],
      "source": []
    },
    {
      "cell_type": "code",
      "execution_count": null,
      "metadata": {
        "id": "PwALDH0Rrfhq"
      },
      "outputs": [],
      "source": []
    }
  ],
  "metadata": {
    "colab": {
      "collapsed_sections": [],
      "provenance": []
    },
    "kernelspec": {
      "display_name": "Julia 1.8.1",
      "name": "julia"
    },
    "language_info": {
      "name": "julia"
    }
  },
  "nbformat": 4,
  "nbformat_minor": 0
}
