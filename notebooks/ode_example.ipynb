{
  "cells": [
    {
      "cell_type": "markdown",
      "metadata": {
        "id": "dZYfEHlH4Baz"
      },
      "source": [
        "# Example of a First-order O.D.E. - (Julia) Notebook\n",
        "\n",
        "The first time you open this notebook, follow the instructions below..."
      ]
    },
    {
      "cell_type": "code",
      "execution_count": null,
      "metadata": {
        "id": "6Q4PbqcS8n7y"
      },
      "outputs": [],
      "source": [
        "# Run only this first 'cell', when starting your notebook session.\n",
        "# It will take ~3min\n",
        "!curl -fsSL https://raw.githubusercontent.com/mgiugliano/PrinciplesCompNeurosciencesCourse/main/pvt/deploy_julia.sh | sh\n",
        "\n",
        "# When the process is completed, perform a 'page refresh'."
      ]
    },
    {
      "cell_type": "markdown",
      "metadata": {
        "id": "-K2YXk1H4NTo"
      },
      "source": [
        "Let's consider this _homogeneous_ **ordinary differential equation (o.d.e.)** (i.e. _the usual boring differential equation_, as we said in class).\n",
        "\n",
        "$$\\frac{df(x)}{dx} = -30\\ f(x),$$ with initial condition $f(0)=5$.\n",
        "\n",
        "-------------\n",
        "\n",
        "It is _first order_ as only the first derivative of $f(x)$ appears; it is _homogeneous_ because no other function appears, it has _constant coefficients_ as they are not dependent on $x$, and it is _linear_ as only sum/subtractions (and multiplication for a constant) combine together $f(x)$ and its derivative(s). \n",
        "\n",
        "Its analytical solution is $f(x) = 5\\ e^{-30\\ x}$, which is of course a **function** and not a single number. \n",
        "\n",
        "## Demo of the Euler's forward method\n",
        "\n",
        "We solve it by \n",
        "   - first discretizing the independent variable $x$ (i.e. into discrete points, uniformly spaced of $\\Delta x$) and then \n",
        "   - approximating the first derivative, as we learned in class:\n",
        "\n",
        "$$x \\rightarrow k \\Delta x\\ \\ \\ \\ \\ \\ \\ \\ k=1,2,3,...\\ \\ \\ \\ \\ \\ \\ \\ \\frac{df(x)}{dx} \\approx \\frac{f(k\\Delta x) - f\\left((k-1) \\Delta x\\right)}{\\Delta x}$$\n",
        "\n",
        "This turns the o.d.e. into an iterative algebraic equation:\n",
        "\n",
        "$f(k\\Delta x) \\approx f((k-1)\\Delta x) - 30 \\Delta x\\ f((k-1)\\Delta x) \\ \\ \\ \\ \\ \\ \\ \\ k=1,2,3,...$"
      ]
    },
    {
      "cell_type": "code",
      "execution_count": null,
      "metadata": {
        "id": "HSOFxm5J3xar"
      },
      "outputs": [],
      "source": [
        "# Whatever follows the hash symbol is ignored and it is used to annotate or comment the code \n",
        "\n",
        "using Plots      # Tells the computer to “add” a package for (later) generating plots\n",
        "gr()\n",
        "x = 0:0.1:6.28\n",
        "y = sin.(x)\n",
        "plot(x, y)"
      ]
    },
    {
      "cell_type": "markdown",
      "metadata": {
        "id": "WoaPMjMooC4h"
      },
      "source": [
        "The analytical solution is $f(x) = 5\\ e^{-30\\ x}$, as one can easily verify by direct substitution into the given equation.\n",
        "Let's prepare it for plotting it!"
      ]
    },
    {
      "cell_type": "code",
      "execution_count": null,
      "metadata": {
        "id": "KfHVUdQ-4AiW"
      },
      "outputs": [],
      "source": [
        " fo = 5;     # Initial condition\n",
        " T = 0.5 \t\t # Maximal value of x, to calculate the solution  \n",
        "\n",
        " # Analytical solution --------------------------------------------------------\t\n",
        " x1  = 0:0.001:T; \t\t\t\t          # 'x-axis' for the analytical solution\n",
        " solution(x) = fo * exp.(-30 * x1)  # => analytical solution\n",
        " g   = solution(x1); \t              # points calculated with such a function\n",
        " # ----------------------------------------------------------------------------"
      ]
    },
    {
      "cell_type": "code",
      "execution_count": null,
      "metadata": {
        "id": "9_2NiGdjoR6l"
      },
      "outputs": [],
      "source": [
        "function plot_all(xa, ya, xb, yb)\n",
        " # Plotting instructions ------------------------------------------------------\t\t\n",
        "  plot(xa, ya, \n",
        "      seriestype = :scatter, \n",
        "      label=\"Numerical (approx.)\");   # Numerical sol. \n",
        "  \n",
        "  plot!(xb, yb, \n",
        "      label=\"Analytical (truth)\", \n",
        "      linewidth=4, \n",
        "      linecolor=:red, \n",
        "      title=\"Euler's method demo\", \n",
        "      xtickfont=font(14, \"Arial\"),\n",
        "      ytickfont=font(14, \"Arial\"),\n",
        "      framestyle = :origin); # Analytical sol.\n",
        "\n",
        "  xlims!((-0.05,0.5))\n",
        "  ylims!((-0.1,5.1))\n",
        "end"
      ]
    },
    {
      "cell_type": "markdown",
      "metadata": {
        "id": "DcWnwq4eoV-x"
      },
      "source": [
        "We now calculate numerically (below) the solution and compare it to the analytically solution defined above. Note that for larger $\\Delta x$ the numerical solution will become increasingly worse, while the analytical solution will still be evaluated at the same data points. Change the value of $\\Delta x$ (e.g. to 10 times its current value) and see by yourself how the agreement between numerics and theory degenerates."
      ]
    },
    {
      "cell_type": "code",
      "execution_count": null,
      "metadata": {
        "id": "WJ9QWfaSoT0-"
      },
      "outputs": [],
      "source": [
        " # @title After running this cell manually, it will auto-run if you change the selected value. { run: \"auto\" }\n",
        " dx = 0.0251 #@param {type:\"slider\", min:0.0007, max:0.03, step:0.0001}\n",
        " N   = Int64(ceil(T / dx))  # N of integration steps, given Δx \n",
        " f   = zeros(N,1); \t\t\t    # Init of an array of N elements with 0s\n",
        "\t\n",
        " # Euler method ---------------------------------------------------------------\n",
        " f[1] = fo;     # Initial condition\n",
        " for k=2:N,                               # Loop over each discrete step for x\n",
        "    f[k] = f[k-1] + -30 * f[k-1] * dx;    # Euler forward method;\n",
        " end                                      # End of the loop;\n",
        "# ----------------------------------------------------------------------------\n",
        "x   = 0:dx:(N-1)*dx;    # This is the 'x-axis' for the numerical solution\n",
        "plot_all(x, f, x1, g)"
      ]
    }
  ],
  "metadata": {
    "colab": {
      "provenance": []
    },
    "kernelspec": {
      "display_name": "Julia 1.8.1",
      "name": "julia"
    },
    "language_info": {
      "name": "julia"
    }
  },
  "nbformat": 4,
  "nbformat_minor": 0
}
